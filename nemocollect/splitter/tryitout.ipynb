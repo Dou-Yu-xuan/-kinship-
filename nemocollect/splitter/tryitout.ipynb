{
 "cells": [
  {
   "cell_type": "code",
   "execution_count": 2,
   "metadata": {},
   "outputs": [],
   "source": [
    "import pandas as pd\n",
    "import os\n",
    "import datetime\n",
    "import time"
   ]
  },
  {
   "cell_type": "code",
   "execution_count": 3,
   "metadata": {},
   "outputs": [],
   "source": [
    "xname = '2019-04-20-13-52-09.xlsx'\n",
    "viname = xname.split('.')[0]+'.mp4' \n",
    "a = pd.read_excel(xname)"
   ]
  },
  {
   "cell_type": "code",
   "execution_count": 11,
   "metadata": {},
   "outputs": [
    {
     "data": {
      "text/html": [
       "<div>\n",
       "<style scoped>\n",
       "    .dataframe tbody tr th:only-of-type {\n",
       "        vertical-align: middle;\n",
       "    }\n",
       "\n",
       "    .dataframe tbody tr th {\n",
       "        vertical-align: top;\n",
       "    }\n",
       "\n",
       "    .dataframe thead th {\n",
       "        text-align: right;\n",
       "    }\n",
       "</style>\n",
       "<table border=\"1\" class=\"dataframe\">\n",
       "  <thead>\n",
       "    <tr style=\"text-align: right;\">\n",
       "      <th></th>\n",
       "      <th>Start</th>\n",
       "      <th>End</th>\n",
       "      <th>Answers</th>\n",
       "      <th>Hand</th>\n",
       "    </tr>\n",
       "  </thead>\n",
       "  <tbody>\n",
       "    <tr>\n",
       "      <th>0</th>\n",
       "      <td>NaN</td>\n",
       "      <td>00:00:08:00</td>\n",
       "      <td>NaN</td>\n",
       "      <td>NaN</td>\n",
       "    </tr>\n",
       "    <tr>\n",
       "      <th>1</th>\n",
       "      <td>00:00:11:21</td>\n",
       "      <td>00:00:25:26</td>\n",
       "      <td>NaN</td>\n",
       "      <td>NaN</td>\n",
       "    </tr>\n",
       "    <tr>\n",
       "      <th>2</th>\n",
       "      <td>NaN</td>\n",
       "      <td>00:00:34:39</td>\n",
       "      <td>NaN</td>\n",
       "      <td>NaN</td>\n",
       "    </tr>\n",
       "    <tr>\n",
       "      <th>3</th>\n",
       "      <td>00:00:37:45</td>\n",
       "      <td>00:00:56:14</td>\n",
       "      <td>NaN</td>\n",
       "      <td>NaN</td>\n",
       "    </tr>\n",
       "    <tr>\n",
       "      <th>4</th>\n",
       "      <td>NaN</td>\n",
       "      <td>00:01:15:17</td>\n",
       "      <td>NaN</td>\n",
       "      <td>NaN</td>\n",
       "    </tr>\n",
       "    <tr>\n",
       "      <th>5</th>\n",
       "      <td>NaN</td>\n",
       "      <td>00:01:18:40</td>\n",
       "      <td>NaN</td>\n",
       "      <td>NaN</td>\n",
       "    </tr>\n",
       "    <tr>\n",
       "      <th>6</th>\n",
       "      <td>NaN</td>\n",
       "      <td>00:01:31:09</td>\n",
       "      <td>NaN</td>\n",
       "      <td>NaN</td>\n",
       "    </tr>\n",
       "    <tr>\n",
       "      <th>7</th>\n",
       "      <td>NaN</td>\n",
       "      <td>00:01:34:30</td>\n",
       "      <td>NaN</td>\n",
       "      <td>NaN</td>\n",
       "    </tr>\n",
       "    <tr>\n",
       "      <th>8</th>\n",
       "      <td>NaN</td>\n",
       "      <td>00:02:11:53</td>\n",
       "      <td>no</td>\n",
       "      <td>L</td>\n",
       "    </tr>\n",
       "    <tr>\n",
       "      <th>9</th>\n",
       "      <td>NaN</td>\n",
       "      <td>00:02:14:00</td>\n",
       "      <td>no</td>\n",
       "      <td>NaN</td>\n",
       "    </tr>\n",
       "    <tr>\n",
       "      <th>10</th>\n",
       "      <td>NaN</td>\n",
       "      <td>00:02:15:51</td>\n",
       "      <td>no</td>\n",
       "      <td>NaN</td>\n",
       "    </tr>\n",
       "    <tr>\n",
       "      <th>11</th>\n",
       "      <td>NaN</td>\n",
       "      <td>00:02:35:53</td>\n",
       "      <td>yes</td>\n",
       "      <td>R</td>\n",
       "    </tr>\n",
       "    <tr>\n",
       "      <th>12</th>\n",
       "      <td>NaN</td>\n",
       "      <td>00:02:38:08</td>\n",
       "      <td>yes</td>\n",
       "      <td>NaN</td>\n",
       "    </tr>\n",
       "    <tr>\n",
       "      <th>13</th>\n",
       "      <td>NaN</td>\n",
       "      <td>00:02:40:05</td>\n",
       "      <td>yes</td>\n",
       "      <td>NaN</td>\n",
       "    </tr>\n",
       "    <tr>\n",
       "      <th>14</th>\n",
       "      <td>NaN</td>\n",
       "      <td>00:02:55:21</td>\n",
       "      <td>no</td>\n",
       "      <td>L</td>\n",
       "    </tr>\n",
       "    <tr>\n",
       "      <th>15</th>\n",
       "      <td>NaN</td>\n",
       "      <td>00:02:57:13</td>\n",
       "      <td>no</td>\n",
       "      <td>NaN</td>\n",
       "    </tr>\n",
       "    <tr>\n",
       "      <th>16</th>\n",
       "      <td>NaN</td>\n",
       "      <td>00:02:59:21</td>\n",
       "      <td>no</td>\n",
       "      <td>NaN</td>\n",
       "    </tr>\n",
       "  </tbody>\n",
       "</table>\n",
       "</div>"
      ],
      "text/plain": [
       "          Start          End Answers Hand\n",
       "0           NaN  00:00:08:00     NaN  NaN\n",
       "1   00:00:11:21  00:00:25:26     NaN  NaN\n",
       "2           NaN  00:00:34:39     NaN  NaN\n",
       "3   00:00:37:45  00:00:56:14     NaN  NaN\n",
       "4           NaN  00:01:15:17     NaN  NaN\n",
       "5           NaN  00:01:18:40     NaN  NaN\n",
       "6           NaN  00:01:31:09     NaN  NaN\n",
       "7           NaN  00:01:34:30     NaN  NaN\n",
       "8           NaN  00:02:11:53      no    L\n",
       "9           NaN  00:02:14:00      no  NaN\n",
       "10          NaN  00:02:15:51      no  NaN\n",
       "11          NaN  00:02:35:53     yes    R\n",
       "12          NaN  00:02:38:08     yes  NaN\n",
       "13          NaN  00:02:40:05     yes  NaN\n",
       "14          NaN  00:02:55:21      no    L\n",
       "15          NaN  00:02:57:13      no  NaN\n",
       "16          NaN  00:02:59:21      no  NaN"
      ]
     },
     "execution_count": 11,
     "metadata": {},
     "output_type": "execute_result"
    }
   ],
   "source": [
    "a"
   ]
  },
  {
   "cell_type": "code",
   "execution_count": 19,
   "metadata": {},
   "outputs": [
    {
     "data": {
      "text/plain": [
       "False"
      ]
     },
     "execution_count": 19,
     "metadata": {},
     "output_type": "execute_result"
    }
   ],
   "source": [
    "17 "
   ]
  },
  {
   "cell_type": "code",
   "execution_count": 51,
   "metadata": {},
   "outputs": [
    {
     "data": {
      "text/plain": [
       "60.0"
      ]
     },
     "execution_count": 51,
     "metadata": {},
     "output_type": "execute_result"
    }
   ],
   "source": [
    "x = time.strptime('00:01:00:50','%H:%M:%S:%f')\n",
    "# x = time.strptime('00:01:00,000'.split(',')[0],'%H:%M:%S')\n",
    "datetime.timedelta(hours=x.tm_hour,minutes=x.tm_min,seconds=x.tm_sec).total_seconds()"
   ]
  },
  {
   "cell_type": "code",
   "execution_count": 52,
   "metadata": {},
   "outputs": [],
   "source": [
    "def transtime(x):\n",
    "    tlist =x.split(':')\n",
    "    tsecon = sum(x * float(t) for x, t in zip([3600, 60, 1, 1./60], tlist)) \n",
    "    return tsecon"
   ]
  },
  {
   "cell_type": "code",
   "execution_count": null,
   "metadata": {},
   "outputs": [],
   "source": []
  },
  {
   "cell_type": "code",
   "execution_count": 62,
   "metadata": {},
   "outputs": [
    {
     "name": "stdout",
     "output_type": "stream",
     "text": [
      "start:7.000000\n",
      "stop:8.000000 \n",
      "\n",
      "start:11.350000\n",
      "stop:25.433333 \n",
      "\n",
      "start:33.650000\n",
      "stop:34.650000 \n",
      "\n",
      "start:55.233333\n",
      "stop:56.233333 \n",
      "\n",
      "start:74.283333\n",
      "stop:75.283333 \n",
      "\n",
      "start:77.666667\n",
      "stop:78.666667 \n",
      "\n",
      "start:90.150000\n",
      "stop:91.150000 \n",
      "\n",
      "start:93.500000\n",
      "stop:94.500000 \n",
      "\n",
      "start:130.883333\n",
      "stop:131.883333 \n",
      "\n",
      "start:133.000000\n",
      "stop:134.000000 \n",
      "\n",
      "start:134.850000\n",
      "stop:135.850000 \n",
      "\n",
      "start:154.883333\n",
      "stop:155.883333 \n",
      "\n",
      "start:157.133333\n",
      "stop:158.133333 \n",
      "\n",
      "start:159.083333\n",
      "stop:160.083333 \n",
      "\n",
      "start:174.350000\n",
      "stop:175.350000 \n",
      "\n",
      "start:176.216667\n",
      "stop:177.216667 \n",
      "\n",
      "start:178.350000\n",
      "stop:179.350000 \n",
      "\n"
     ]
    }
   ],
   "source": [
    "for i in range(17):\n",
    "    tstop = transtime(a['End'][i])\n",
    "    if not i ==1 or i ==3:\n",
    "        tstar = tstop - 1\n",
    "    else:\n",
    "        tstar = transtime(a['Start'][i])\n",
    "    print('start:%f'%tstar)\n",
    "    print('stop:%f \\n'%tstop)\n",
    "    comm = '/usr/bin/ffmpeg -i {} -ss {} -to {} {}.mp4'.format(viname,tstar,tstop, i)\n",
    "#     !!comm"
   ]
  },
  {
   "cell_type": "code",
   "execution_count": 40,
   "metadata": {},
   "outputs": [
    {
     "data": {
      "text/plain": [
       "60.833333333333336"
      ]
     },
     "execution_count": 40,
     "metadata": {},
     "output_type": "execute_result"
    }
   ],
   "source": [
    "transtime(a['End'][0])"
   ]
  },
  {
   "cell_type": "code",
   "execution_count": 64,
   "metadata": {},
   "outputs": [
    {
     "data": {
      "text/plain": [
       "['2019-04-20-13-52-09.xlsx',\n",
       " '2019-04-20-16-49-33',\n",
       " '2019-04-20-16-49-33.mp4',\n",
       " '2019-04-20-16-49-33.xlsx',\n",
       " 'splitxls.py',\n",
       " 'tryitout.ipynb']"
      ]
     },
     "execution_count": 64,
     "metadata": {},
     "output_type": "execute_result"
    }
   ],
   "source": [
    "!!ls"
   ]
  },
  {
   "cell_type": "code",
   "execution_count": null,
   "metadata": {},
   "outputs": [],
   "source": []
  }
 ],
 "metadata": {
  "kernelspec": {
   "display_name": "Python 2",
   "language": "python",
   "name": "python2"
  },
  "language_info": {
   "codemirror_mode": {
    "name": "ipython",
    "version": 3
   },
   "file_extension": ".py",
   "mimetype": "text/x-python",
   "name": "python",
   "nbconvert_exporter": "python",
   "pygments_lexer": "ipython3",
   "version": "3.7.1"
  }
 },
 "nbformat": 4,
 "nbformat_minor": 2
}
